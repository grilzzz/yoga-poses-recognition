{
 "cells": [
  {
   "cell_type": "code",
   "execution_count": 1,
   "id": "e212bc92-7d38-4c51-a0f9-baf7d482d154",
   "metadata": {
    "tags": []
   },
   "outputs": [],
   "source": [
    "import cv2\n",
    "import mediapipe as mp\n",
    "import numpy as np\n",
    "import pandas as pd\n",
    "import os\n",
    "from pathlib import Path"
   ]
  },
  {
   "cell_type": "code",
   "execution_count": 2,
   "id": "23a2f62b-727d-4d0d-90e8-2c5f6107c34b",
   "metadata": {
    "tags": []
   },
   "outputs": [
    {
     "data": {
      "text/plain": [
       "({'Downdog': 0, 'Goddess': 1, 'Plank': 2, 'Tree': 3, 'Warrior2': 4},\n",
       " {0: 'Downdog', 1: 'Goddess', 2: 'Plank', 3: 'Tree', 4: 'Warrior2'})"
      ]
     },
     "execution_count": 2,
     "metadata": {},
     "output_type": "execute_result"
    }
   ],
   "source": [
    "img_labels = []\n",
    "directory_path = Path('YogaPoses')\n",
    "for file_path in directory_path.glob('*'):\n",
    "    img_labels.append(str(file_path).split('\\\\')[-1])\n",
    "    \n",
    "labels_to_digits = {}\n",
    "digits_to_labels = {}\n",
    "for i, elem in enumerate(img_labels):\n",
    "    labels_to_digits[elem] = i\n",
    "    digits_to_labels[i] = elem\n",
    "labels_to_digits, digits_to_labels"
   ]
  },
  {
   "cell_type": "code",
   "execution_count": 3,
   "id": "5d9e6186-7bdd-4b9e-938c-a47f5f7772f9",
   "metadata": {
    "tags": []
   },
   "outputs": [],
   "source": [
    "img_path = 'YogaPoses/'\n",
    "\n",
    "# Словарь с названиями ключевых точек тела в MediaPipe Pose\n",
    "# Заметьте, что точная структура может меняться в зависимости от версии MediaPipe, поэтому проверьте актуальность данных\n",
    "pose_landmarks = {\n",
    "    0: 'Нос',\n",
    "    1: 'Внутренний глаз слева',\n",
    "    2: 'Внутренний глаз справа',\n",
    "    3: 'Внешний глаз слева',\n",
    "    4: 'Внешний глаз справа',\n",
    "    5: 'Левое ухо',\n",
    "    6: 'Правое ухо',\n",
    "    7: 'Рот слева',\n",
    "    8: 'Рот справа',\n",
    "    9: 'Левое плечо',\n",
    "    10: 'Правое плечо',\n",
    "    11: 'Левый локоть',\n",
    "    12: 'Правый локоть',\n",
    "    13: 'Левое запястье',\n",
    "    14: 'Правое запястье',\n",
    "    15: 'Левая ладонь',\n",
    "    16: 'Правая ладонь',\n",
    "    17: 'Левый мизинец',\n",
    "    18: 'Правый мизинец',\n",
    "    19: 'Левый указательный палец',\n",
    "    20: 'Правый указательный палец',\n",
    "    21: 'Левый большой палец',\n",
    "    22: 'Правый большой палец',\n",
    "    23: 'Левый бедро',\n",
    "    24: 'Правое бедро',\n",
    "    25: 'Левое колено',\n",
    "    26: 'Правое колено',\n",
    "    27: 'Левая щиколотка',\n",
    "    28: 'Правая щиколотка',\n",
    "    29: 'Левая пятка',\n",
    "    30: 'Правая пятка',\n",
    "    31: 'Левый передний край стопы',\n",
    "    32: 'Правый передний край стопы',\n",
    "}"
   ]
  },
  {
   "cell_type": "code",
   "execution_count": 4,
   "id": "28fac9aa-38fd-4cbf-ba48-3807f45b3b21",
   "metadata": {
    "tags": []
   },
   "outputs": [],
   "source": [
    "directory_path = img_path\n",
    "\n",
    "for elem in img_labels:\n",
    "    if not os.path.isdir(directory_path+elem):\n",
    "        print(f'Directory {directory_path+elem} is not exist')"
   ]
  },
  {
   "cell_type": "code",
   "execution_count": 5,
   "id": "d9d63176-35b6-414d-98e1-af0b55c5aadd",
   "metadata": {
    "tags": []
   },
   "outputs": [],
   "source": [
    "mp_drawing = mp.solutions.drawing_utils\n",
    "mp_pose = mp.solutions.pose\n",
    "pose = mp_pose.Pose(static_image_mode=True, min_detection_confidence=0.5)\n",
    "\n",
    "def work_with_file(file_path, df, label):\n",
    "    img = cv2.imread(file_path)\n",
    "    img_rgb = cv2.cvtColor(img, cv2.COLOR_BGR2RGB)\n",
    "    results = pose.process(img_rgb)\n",
    "    if results.pose_landmarks:\n",
    "        landmarks = {'image_path': str(file_path)}\n",
    "        \n",
    "        for i, landmark in enumerate(results.pose_landmarks.landmark):\n",
    "            landmarks[f'x_{i}'] = landmark.x\n",
    "            landmarks[f'y_{i}'] = landmark.y\n",
    "            landmarks[f'z_{i}'] = landmark.z\n",
    "            landmarks[f'visibility_{i}'] = landmark.visibility\n",
    "        landmarks['label'] = labels_to_digits[label]\n",
    "        \n",
    "        df = df._append(landmarks, ignore_index=True)\n",
    "    \n",
    "    return df"
   ]
  },
  {
   "cell_type": "code",
   "execution_count": null,
   "id": "8f737c77-1a36-4d30-a678-ef4f8d78e33b",
   "metadata": {
    "tags": []
   },
   "outputs": [],
   "source": [
    "df = pd.DataFrame()\n",
    "for elem in img_labels:      \n",
    "    n_files = 0\n",
    "    directory_path = Path(img_path + elem)\n",
    "\n",
    "    for file_path in directory_path.glob('*'):\n",
    "        if file_path.is_file():\n",
    "            n_files += 1\n",
    "            df = work_with_file(str(file_path), df, elem)\n",
    "            \n",
    "    print(f'got {n_files} files from {directory_path} folder')\n",
    "    \n",
    "    \n",
    "df.to_csv('body_landmarks.csv', index=False)\n",
    "df"
   ]
  },
  {
   "cell_type": "code",
   "execution_count": null,
   "id": "8bf41754-8541-4961-a728-d2e5b77daffb",
   "metadata": {},
   "outputs": [],
   "source": []
  }
 ],
 "metadata": {
  "kernelspec": {
   "display_name": "Python 3 (ipykernel)",
   "language": "python",
   "name": "python3"
  },
  "language_info": {
   "codemirror_mode": {
    "name": "ipython",
    "version": 3
   },
   "file_extension": ".py",
   "mimetype": "text/x-python",
   "name": "python",
   "nbconvert_exporter": "python",
   "pygments_lexer": "ipython3",
   "version": "3.11.5"
  }
 },
 "nbformat": 4,
 "nbformat_minor": 5
}

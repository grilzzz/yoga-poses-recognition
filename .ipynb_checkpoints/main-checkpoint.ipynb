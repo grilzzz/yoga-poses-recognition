{
 "cells": [
  {
   "cell_type": "code",
   "execution_count": 68,
   "id": "02ea8458-2fc7-4164-988e-5ebf00fca13c",
   "metadata": {
    "tags": []
   },
   "outputs": [],
   "source": [
    "import cv2\n",
    "import mediapipe as mp\n",
    "import numpy as np\n",
    "mp_drawing = mp.solutions.drawing_utils\n",
    "mp_pose = mp.solutions.pose\n",
    "import pandas as pd"
   ]
  },
  {
   "cell_type": "code",
   "execution_count": 7,
   "id": "8a58381a-b882-4be5-91ac-9df39f5cc692",
   "metadata": {
    "tags": []
   },
   "outputs": [],
   "source": [
    "# VIDEO FEED\n",
    "cap = cv2.VideoCapture(0)\n",
    "while cap.isOpened():\n",
    "    ret, frame = cap.read()\n",
    "    cv2.imshow('Mediapipe Feed', frame)\n",
    "    \n",
    "    if cv2.waitKey(10) & 0xFF == ord('q'):\n",
    "        break\n",
    "        \n",
    "cap.release()\n",
    "cv2.destroyAllWindows()"
   ]
  },
  {
   "cell_type": "code",
   "execution_count": 3,
   "id": "868cadc9-311f-46f3-be80-ed1c61e5a5b7",
   "metadata": {
    "tags": []
   },
   "outputs": [
    {
     "name": "stdout",
     "output_type": "stream",
     "text": [
      "1\n"
     ]
    }
   ],
   "source": [
    "cap = cv2.VideoCapture(0)\n",
    "with mp_pose.Pose(min_detection_confidence=0.5, min_tracking_confidence=0.5) as pose:\n",
    "    while cap.isOpened():\n",
    "        ret, frame = cap.read()\n",
    "        \n",
    "        # Recolor image to RGB\n",
    "        image = cv2.cvtColor(frame, cv2.COLOR_BGR2RGB)\n",
    "        image.flags.writeable = False\n",
    "      \n",
    "        # Make detection\n",
    "        results = pose.process(image)\n",
    "    \n",
    "        # Recolor back to BGR\n",
    "        image.flags.writeable = True\n",
    "        image = cv2.cvtColor(image, cv2.COLOR_RGB2BGR)\n",
    "        \n",
    "        # Render detections\n",
    "        mp_drawing.draw_landmarks(image, results.pose_landmarks, mp_pose.POSE_CONNECTIONS,\n",
    "                                mp_drawing.DrawingSpec(color=(245,117,66), thickness=2, circle_radius=2), \n",
    "                                mp_drawing.DrawingSpec(color=(245,66,230), thickness=2, circle_radius=2) \n",
    "                                 )               \n",
    "        \n",
    "        cv2.imshow('Mediapipe Feed', image)\n",
    "\n",
    "        if cv2.waitKey(10) & 0xFF == ord('q'):\n",
    "            break\n",
    "\n",
    "    cap.release()\n",
    "    cv2.destroyAllWindows()\n",
    "print(1)"
   ]
  },
  {
   "cell_type": "code",
   "execution_count": 8,
   "id": "e7420cd5-803a-4ac3-8ae2-bcdc77ea17f9",
   "metadata": {
    "tags": []
   },
   "outputs": [],
   "source": [
    "cap = cv2.VideoCapture('video_dataset/dataset/train/Tadasana/video1.mp4')\n",
    "cap1 = cv2.VideoCapture('video_dataset\\\\dataset\\\\train\\\\Tadasana\\\\video1.mp4')\n",
    "while True:\n",
    "    success, img = cap.read()\n",
    "    if not success:\n",
    "        break\n",
    "    cv2.imshow(\"video\", img)\n",
    "    if cv2.waitKey(1) == ord('q'):\n",
    "        break\n",
    "cap.release()\n",
    "cv2.destroyAllWindows()"
   ]
  },
  {
   "cell_type": "code",
   "execution_count": 24,
   "id": "9c0f86e5-29b2-4609-95d9-0ea92169f94f",
   "metadata": {
    "tags": []
   },
   "outputs": [],
   "source": [
    "img = cv2.imread('dataset/train/downdog/00000128.jpg')\n",
    "cv2.imshow('photo', img)\n",
    "if cv2.waitKey(1000) == ord('q'):\n",
    "    cv2.destroyAllWindows()\n",
    "cv2.destroyAllWindows()"
   ]
  },
  {
   "cell_type": "code",
   "execution_count": 13,
   "id": "4670106c-a042-4dbf-b9ac-6c9bad08a892",
   "metadata": {},
   "outputs": [
    {
     "data": {
      "text/plain": [
       "{'Padmasana': 0,\n",
       " 'Trikonasana': 1,\n",
       " 'Vrksasana': 2,\n",
       " 'Padamasana': 0,\n",
       " 'Trikasana': 1,\n",
       " 'Vrikshasana': 2}"
      ]
     },
     "execution_count": 13,
     "metadata": {},
     "output_type": "execute_result"
    }
   ],
   "source": [
    "img2_labels = ['Padmasana', 'Trikonasana', 'Vrksasana']\n",
    "img_labels = ['Padamasana', 'Trikasana', 'Vrikshasana']\n",
    "vid_labels = ['Padamasana', 'Trikasana', 'Vrikshasana']\n",
    "\n",
    "labels_to_digits = {}\n",
    "for i, elem in enumerate(img2_labels):\n",
    "    labels_to_digits[elem] = i\n",
    "for i, elem in enumerate(img_labels):\n",
    "    labels_to_digits[elem] = i\n",
    "for i, elem in enumerate(vid_labels):\n",
    "    labels_to_digits[elem] = i\n",
    "labels_to_digits"
   ]
  },
  {
   "cell_type": "code",
   "execution_count": 14,
   "id": "051e0f1a-75cc-414d-89ae-ba781766ace8",
   "metadata": {
    "tags": []
   },
   "outputs": [],
   "source": [
    "img_path = 'dataset/train/'\n",
    "img2_path = 'dataset2/'\n",
    "vid_path = 'video_dataset/dataset/train/'"
   ]
  },
  {
   "cell_type": "code",
   "execution_count": 33,
   "id": "05b28b67-f3b9-4c89-8e17-2a11be2d4b15",
   "metadata": {
    "tags": []
   },
   "outputs": [
    {
     "name": "stdout",
     "output_type": "stream",
     "text": [
      "dataset/train/Padamasana\n",
      "dataset/train/Trikasana\n",
      "dataset/train/Vrikshasana\n"
     ]
    }
   ],
   "source": [
    "import os\n",
    "\n",
    "\n",
    "directory_path = img_path\n",
    "\n",
    "for elem in img_labels:\n",
    "    if not os.path.isdir(directory_path+elem):\n",
    "        print(f'Directory {directory_path+elem} is not exist')\n",
    "        \n",
    "directory_path = img2_path\n",
    "\n",
    "for elem in img2_labels:\n",
    "    if not os.path.isdir(directory_path+elem):\n",
    "        print(f'Directory {directory_path+elem} is not exist')\n",
    "        \n",
    "directory_path = vid_path\n",
    "\n",
    "for elem in vid_labels:\n",
    "    if not os.path.isdir(directory_path+elem):\n",
    "        print(f'Directory {directory_path+elem} is not exist')\n"
   ]
  },
  {
   "cell_type": "code",
   "execution_count": null,
   "id": "44f142e2-4e73-4f3e-9104-ae3f0bc6ecdc",
   "metadata": {},
   "outputs": [],
   "source": [
    "import mediapipe as mp\n",
    "import pandas as pd\n",
    "import cv2\n",
    "from pathlib import Path\n",
    "\n",
    "# Инициализация MediaPipe Pose\n",
    "mp_pose = mp.solutions.pose\n",
    "pose = mp_pose.Pose(static_image_mode=True, min_detection_confidence=0.5)\n",
    "\n",
    "# Путь к директории с изображениями\n",
    "image_path = \"path_to_image\"\n",
    "\n",
    "# DataFrame для хранения координат\n",
    "df = pd.DataFrame()\n",
    "\n",
    "# Перебор изображений в директории\n",
    "# Чтение изображения\n",
    "image = cv2.imread(image_path)\n",
    "image_rgb = cv2.cvtColor(image, cv2.COLOR_BGR2RGB)\n",
    "\n",
    "    # Обработка изображения с помощью MediaPipe\n",
    "results = pose.process(image_rgb)\n",
    "\n",
    "if results.pose_landmarks:\n",
    "        # Словарь для хранения координат точек тела\n",
    "    landmarks = {'image_path': image_path}\n",
    "        \n",
    "    for i, landmark in enumerate(results.pose_landmarks.landmark):\n",
    "        landmarks[f'x_{i}'] = landmark.x\n",
    "        landmarks[f'y_{i}'] = landmark.y\n",
    "        landmarks[f'z_{i}'] = landmark.z\n",
    "        landmarks[f'visibility_{i}'] = landmark.visibility\n",
    "        \n",
    "        # Добавление данных о точках тела в DataFrame\n",
    "    df = df.append(landmarks, ignore_index=True)\n",
    "\n",
    "# Сохранение данных в CSV-файл\n",
    "df.to_csv('body_landmarks.csv', index=False)\n",
    "\n",
    "# Освобождение ресурсов MediaPipe\n",
    "pose.close()\n"
   ]
  },
  {
   "cell_type": "code",
   "execution_count": 72,
   "id": "454eb63d-fa1a-49e8-9caa-e36f969beec2",
   "metadata": {
    "tags": []
   },
   "outputs": [
    {
     "data": {
      "text/plain": [
       "<module 'mediapipe.python.solutions.pose' from 'D:\\\\anaconda\\\\Lib\\\\site-packages\\\\mediapipe\\\\python\\\\solutions\\\\pose.py'>"
      ]
     },
     "execution_count": 72,
     "metadata": {},
     "output_type": "execute_result"
    }
   ],
   "source": [
    "mp_pose"
   ]
  },
  {
   "cell_type": "code",
   "execution_count": 71,
   "id": "868f4632-94e9-44ef-b734-faa011a177aa",
   "metadata": {
    "tags": []
   },
   "outputs": [
    {
     "name": "stdout",
     "output_type": "stream",
     "text": [
      "[x: 0.6661557\n",
      "y: 0.269147\n",
      "z: -0.7630117\n",
      "visibility: 0.99957234\n",
      ", x: 0.6969215\n",
      "y: 0.25522843\n",
      "z: -0.66467506\n",
      "visibility: 0.99945384\n",
      ", x: 0.71712476\n",
      "y: 0.25554803\n",
      "z: -0.66456\n",
      "visibility: 0.999258\n",
      ", x: 0.7330641\n",
      "y: 0.2559353\n",
      "z: -0.6648746\n",
      "visibility: 0.99957687\n",
      ", x: 0.6356981\n",
      "y: 0.25522238\n",
      "z: -0.6301825\n",
      "visibility: 0.9993007\n",
      ", x: 0.61362326\n",
      "y: 0.2558476\n",
      "z: -0.6303252\n",
      "visibility: 0.9987948\n",
      ", x: 0.5951905\n",
      "y: 0.2565731\n",
      "z: -0.6304947\n",
      "visibility: 0.99930704\n",
      ", x: 0.7632282\n",
      "y: 0.2662357\n",
      "z: -0.267825\n",
      "visibility: 0.999356\n",
      ", x: 0.57944167\n",
      "y: 0.2685922\n",
      "z: -0.08724363\n",
      "visibility: 0.9995127\n",
      ", x: 0.70789176\n",
      "y: 0.2873619\n",
      "z: -0.62860733\n",
      "visibility: 0.99906343\n",
      ", x: 0.6330814\n",
      "y: 0.2892999\n",
      "z: -0.57768106\n",
      "visibility: 0.99850416\n",
      ", x: 0.901103\n",
      "y: 0.34103948\n",
      "z: -0.46173462\n",
      "visibility: 0.9976774\n",
      ", x: 0.49642408\n",
      "y: 0.34533927\n",
      "z: 0.040897064\n",
      "visibility: 0.99412954\n",
      ", x: 0.97237474\n",
      "y: 0.22195154\n",
      "z: -0.9578506\n",
      "visibility: 0.9944055\n",
      ", x: 0.40364188\n",
      "y: 0.22494318\n",
      "z: -0.14717257\n",
      "visibility: 0.9695916\n",
      ", x: 0.7323878\n",
      "y: 0.12777779\n",
      "z: -0.8257083\n",
      "visibility: 0.954307\n",
      ", x: 0.61521685\n",
      "y: 0.12994039\n",
      "z: -0.0031783143\n",
      "visibility: 0.856615\n",
      ", x: 0.7044352\n",
      "y: 0.095157295\n",
      "z: -0.93768245\n",
      "visibility: 0.89387065\n",
      ", x: 0.66020966\n",
      "y: 0.097648025\n",
      "z: -0.14241375\n",
      "visibility: 0.700249\n",
      ", x: 0.6947718\n",
      "y: 0.09635857\n",
      "z: -0.8515501\n",
      "visibility: 0.8734478\n",
      ", x: 0.65811855\n",
      "y: 0.0993956\n",
      "z: -0.024329392\n",
      "visibility: 0.66178864\n",
      ", x: 0.69700503\n",
      "y: 0.107776195\n",
      "z: -0.80913115\n",
      "visibility: 0.878881\n",
      ", x: 0.64834183\n",
      "y: 0.11153676\n",
      "z: -0.00010967317\n",
      "visibility: 0.7037781\n",
      ", x: 0.7707895\n",
      "y: 0.5952199\n",
      "z: -0.22730142\n",
      "visibility: 0.9985493\n",
      ", x: 0.5107951\n",
      "y: 0.5835324\n",
      "z: 0.22632577\n",
      "visibility: 0.99845743\n",
      ", x: 0.70355874\n",
      "y: 0.77853966\n",
      "z: -0.32002375\n",
      "visibility: 0.94821805\n",
      ", x: 0.117717385\n",
      "y: 0.70808685\n",
      "z: -0.7037055\n",
      "visibility: 0.97231436\n",
      ", x: 0.63599783\n",
      "y: 0.9201127\n",
      "z: 0.60446644\n",
      "visibility: 0.9473039\n",
      ", x: 0.52301943\n",
      "y: 0.80697984\n",
      "z: 0.4857031\n",
      "visibility: 0.7709804\n",
      ", x: 0.63203055\n",
      "y: 0.93340933\n",
      "z: 0.6724842\n",
      "visibility: 0.66807884\n",
      ", x: 0.6008777\n",
      "y: 0.8066198\n",
      "z: 0.5983391\n",
      "visibility: 0.6628453\n",
      ", x: 0.6072914\n",
      "y: 0.986871\n",
      "z: 0.17896351\n",
      "visibility: 0.87579393\n",
      ", x: 0.57697654\n",
      "y: 0.87889004\n",
      "z: 0.40034062\n",
      "visibility: 0.7094995\n",
      "]\n"
     ]
    },
    {
     "data": {
      "text/html": [
       "<div>\n",
       "<style scoped>\n",
       "    .dataframe tbody tr th:only-of-type {\n",
       "        vertical-align: middle;\n",
       "    }\n",
       "\n",
       "    .dataframe tbody tr th {\n",
       "        vertical-align: top;\n",
       "    }\n",
       "\n",
       "    .dataframe thead th {\n",
       "        text-align: right;\n",
       "    }\n",
       "</style>\n",
       "<table border=\"1\" class=\"dataframe\">\n",
       "  <thead>\n",
       "    <tr style=\"text-align: right;\">\n",
       "      <th></th>\n",
       "      <th>image_path</th>\n",
       "      <th>x_0</th>\n",
       "      <th>y_0</th>\n",
       "      <th>z_0</th>\n",
       "      <th>visibility_0</th>\n",
       "      <th>x_1</th>\n",
       "      <th>y_1</th>\n",
       "      <th>z_1</th>\n",
       "      <th>visibility_1</th>\n",
       "      <th>x_2</th>\n",
       "      <th>...</th>\n",
       "      <th>z_30</th>\n",
       "      <th>visibility_30</th>\n",
       "      <th>x_31</th>\n",
       "      <th>y_31</th>\n",
       "      <th>z_31</th>\n",
       "      <th>visibility_31</th>\n",
       "      <th>x_32</th>\n",
       "      <th>y_32</th>\n",
       "      <th>z_32</th>\n",
       "      <th>visibility_32</th>\n",
       "    </tr>\n",
       "  </thead>\n",
       "  <tbody>\n",
       "    <tr>\n",
       "      <th>0</th>\n",
       "      <td>dataset/train/</td>\n",
       "      <td>0.666156</td>\n",
       "      <td>0.269147</td>\n",
       "      <td>-0.763012</td>\n",
       "      <td>0.999572</td>\n",
       "      <td>0.696922</td>\n",
       "      <td>0.255228</td>\n",
       "      <td>-0.664675</td>\n",
       "      <td>0.999454</td>\n",
       "      <td>0.717125</td>\n",
       "      <td>...</td>\n",
       "      <td>0.598339</td>\n",
       "      <td>0.662845</td>\n",
       "      <td>0.607291</td>\n",
       "      <td>0.986871</td>\n",
       "      <td>0.178964</td>\n",
       "      <td>0.875794</td>\n",
       "      <td>0.576977</td>\n",
       "      <td>0.87889</td>\n",
       "      <td>0.400341</td>\n",
       "      <td>0.709499</td>\n",
       "    </tr>\n",
       "  </tbody>\n",
       "</table>\n",
       "<p>1 rows × 133 columns</p>\n",
       "</div>"
      ],
      "text/plain": [
       "       image_path       x_0       y_0       z_0  visibility_0       x_1  \\\n",
       "0  dataset/train/  0.666156  0.269147 -0.763012      0.999572  0.696922   \n",
       "\n",
       "        y_1       z_1  visibility_1       x_2  ...      z_30  visibility_30  \\\n",
       "0  0.255228 -0.664675      0.999454  0.717125  ...  0.598339       0.662845   \n",
       "\n",
       "       x_31      y_31      z_31  visibility_31      x_32     y_32      z_32  \\\n",
       "0  0.607291  0.986871  0.178964       0.875794  0.576977  0.87889  0.400341   \n",
       "\n",
       "   visibility_32  \n",
       "0       0.709499  \n",
       "\n",
       "[1 rows x 133 columns]"
      ]
     },
     "execution_count": 71,
     "metadata": {},
     "output_type": "execute_result"
    }
   ],
   "source": [
    "mp_drawing = mp.solutions.drawing_utils\n",
    "mp_pose = mp.solutions.pose\n",
    "pose = mp_pose.Pose(static_image_mode=True, min_detection_confidence=0.5)\n",
    "    \n",
    "def work_with_file_and_show(file_path, is_break=False):\n",
    "    img = cv2.imread(file_path)\n",
    "    img_rgb = cv2.cvtColor(img, cv2.COLOR_BGR2RGB)\n",
    "    results = pose.process(img_rgb)\n",
    "\n",
    "    mp_drawing.draw_landmarks(img, results.pose_landmarks, mp_pose.POSE_CONNECTIONS,\n",
    "                                mp_drawing.DrawingSpec(color=(245,117,66), thickness=2, circle_radius=2), \n",
    "                                mp_drawing.DrawingSpec(color=(245,66,230), thickness=2, circle_radius=2) \n",
    "                                 )               \n",
    "        \n",
    "    cv2.imshow('Mediapipe Feed', img)\n",
    "\n",
    "    if cv2.waitKey(500) & 0xFF == ord('q'):\n",
    "        is_break = True\n",
    "        cv2.destroyAllWindows()\n",
    "    cv2.destroyAllWindows()\n",
    "    return is_break\n",
    "\n",
    "def work_with_file(file_path, is_break=False):\n",
    "    img = cv2.imread(file_path)\n",
    "    img_rgb = cv2.cvtColor(img, cv2.COLOR_BGR2RGB)\n",
    "    results = pose.process(img_rgb)\n",
    "    df = pd.DataFrame()\n",
    "    print(results.pose_landmarks.landmark)\n",
    "    if results.pose_landmarks:\n",
    "        # Словарь для хранения координат точек тела\n",
    "        landmarks = {'image_path': str(img_path)}\n",
    "        \n",
    "        for i, landmark in enumerate(results.pose_landmarks.landmark):\n",
    "            landmarks[f'x_{i}'] = landmark.x\n",
    "            landmarks[f'y_{i}'] = landmark.y\n",
    "            landmarks[f'z_{i}'] = landmark.z\n",
    "            landmarks[f'visibility_{i}'] = landmark.visibility\n",
    "        \n",
    "        # Добавление данных о точках тела в DataFrame\n",
    "        df = df._append(landmarks, ignore_index=True)\n",
    "    \n",
    "    return df\n",
    "\n",
    "file_path = 'dataset2\\\\Vrksasana\\\\File2.png'\n",
    "work_with_file(file_path)"
   ]
  },
  {
   "cell_type": "code",
   "execution_count": 62,
   "id": "187d1b3e-d724-451b-a0c7-b157b42f9038",
   "metadata": {
    "tags": []
   },
   "outputs": [
    {
     "name": "stdout",
     "output_type": "stream",
     "text": [
      "dataset2\\Padmasana\\File1.png\n",
      "0 files at dataset2/ folder\n",
      "dataset2\\Trikonasana\\File1.jpeg\n",
      "0 files at dataset2/ folder\n",
      "dataset2\\Vrksasana\\File1.png\n",
      "0 files at dataset2/ folder\n"
     ]
    }
   ],
   "source": [
    "from pathlib import Path\n",
    "is_break = False\n",
    "for elem in img2_labels:      \n",
    "    c = 0\n",
    "    directory_path = Path(img2_path + elem)\n",
    "\n",
    "\n",
    "    for file_path in directory_path.glob('*'):\n",
    "        if file_path.is_file():\n",
    "            c += 1\n",
    "            results = work_with_file(str(file_path), isFast)\n",
    "        if is_break:\n",
    "            break\n",
    "    print(f'{c} files at {img2_path} folder')\n",
    "    if is_break:\n",
    "        break"
   ]
  },
  {
   "cell_type": "code",
   "execution_count": null,
   "id": "6d0f14af-41a5-4e61-b608-b41d39ca0cc2",
   "metadata": {},
   "outputs": [],
   "source": []
  }
 ],
 "metadata": {
  "kernelspec": {
   "display_name": "Python 3 (ipykernel)",
   "language": "python",
   "name": "python3"
  },
  "language_info": {
   "codemirror_mode": {
    "name": "ipython",
    "version": 3
   },
   "file_extension": ".py",
   "mimetype": "text/x-python",
   "name": "python",
   "nbconvert_exporter": "python",
   "pygments_lexer": "ipython3",
   "version": "3.11.5"
  }
 },
 "nbformat": 4,
 "nbformat_minor": 5
}
